{
 "cells": [
  {
   "cell_type": "code",
   "execution_count": null,
   "metadata": {
    "_cell_guid": "b1076dfc-b9ad-4769-8c92-a6c4dae69d19",
    "_uuid": "8f2839f25d086af736a60e9eeb907d3b93b6e0e5",
    "execution": {
     "iopub.execute_input": "2021-06-29T08:55:19.91328Z",
     "iopub.status.busy": "2021-06-29T08:55:19.912773Z",
     "iopub.status.idle": "2021-06-29T08:55:22.282914Z",
     "shell.execute_reply": "2021-06-29T08:55:22.282094Z",
     "shell.execute_reply.started": "2021-06-29T08:55:19.913161Z"
    },
    "trusted": true
   },
   "outputs": [],
   "source": [
    "import pandas as pd\n",
    "import numpy as np\n",
    "import missingno as msno\n",
    "import matplotlib.pyplot as plt\n",
    "import seaborn as sns\n",
    "import plotly.express as px\n",
    "import plotly.graph_objects as go\n",
    "from plotly.subplots import make_subplots\n",
    "import warnings\n",
    "warnings.filterwarnings('ignore')"
   ]
  },
  {
   "cell_type": "code",
   "execution_count": null,
   "metadata": {
    "execution": {
     "iopub.execute_input": "2021-06-29T08:55:22.284462Z",
     "iopub.status.busy": "2021-06-29T08:55:22.284078Z",
     "iopub.status.idle": "2021-06-29T08:55:22.963803Z",
     "shell.execute_reply": "2021-06-29T08:55:22.963064Z",
     "shell.execute_reply.started": "2021-06-29T08:55:22.284433Z"
    },
    "trusted": true
   },
   "outputs": [],
   "source": [
    "from sklearn.preprocessing import StandardScaler\n",
    "from sklearn.preprocessing import LabelEncoder\n",
    "\n",
    "from sklearn.tree import DecisionTreeClassifier\n",
    "from sklearn.ensemble import RandomForestClassifier\n",
    "from sklearn.naive_bayes import GaussianNB\n",
    "from sklearn.neighbors import KNeighborsClassifier\n",
    "from sklearn.svm import SVC\n",
    "from sklearn.neural_network import MLPClassifier\n",
    "from sklearn.ensemble import AdaBoostClassifier\n",
    "from sklearn.ensemble import GradientBoostingClassifier\n",
    "from sklearn.ensemble import ExtraTreesClassifier\n",
    "from sklearn.linear_model import LogisticRegression\n",
    "from sklearn.model_selection import train_test_split\n",
    "from sklearn.metrics import accuracy_score\n",
    "from xgboost import XGBClassifier\n",
    "from catboost import CatBoostClassifier\n",
    "from sklearn import metrics\n",
    "from sklearn.metrics import roc_curve\n",
    "from sklearn.metrics import recall_score, confusion_matrix, precision_score, f1_score, accuracy_score, classification_report"
   ]
  },
  {
   "cell_type": "markdown",
   "metadata": {},
   "source": [
    "<a id = \"11\" ></a>\n",
    "# <span style=\"font-family:serif; font-size:28px;\"> 8. Machine Learning Model Evaluations and Predictions</span>\n",
    "<a id = \"modelprediction\" ></a>"
   ]
  },
  {
   "cell_type": "markdown",
   "metadata": {},
   "source": [
    "<a id = \"101\" ></a>\n",
    "#### <b> KNN</b>\n",
    "<a id = \"knn\" ></a>"
   ]
  },
  {
   "cell_type": "code",
   "execution_count": null,
   "metadata": {
    "execution": {
     "iopub.execute_input": "2021-06-29T08:55:30.392806Z",
     "iopub.status.busy": "2021-06-29T08:55:30.392507Z",
     "iopub.status.idle": "2021-06-29T08:55:31.072301Z",
     "shell.execute_reply": "2021-06-29T08:55:31.071164Z",
     "shell.execute_reply.started": "2021-06-29T08:55:30.392776Z"
    },
    "trusted": true
   },
   "outputs": [],
   "source": [
    "knn_model = KNeighborsClassifier(n_neighbors = 11) \n",
    "knn_model.fit(X_train,y_train)\n",
    "predicted_y = knn_model.predict(X_test)\n",
    "accuracy_knn = knn_model.score(X_test,y_test)\n",
    "print(\"KNN accuracy:\",accuracy_knn)"
   ]
  },
  {
   "cell_type": "code",
   "execution_count": null,
   "metadata": {
    "execution": {
     "iopub.execute_input": "2021-06-29T08:56:22.232236Z",
     "iopub.status.busy": "2021-06-29T08:56:22.231829Z",
     "iopub.status.idle": "2021-06-29T08:56:22.245657Z",
     "shell.execute_reply": "2021-06-29T08:56:22.244266Z",
     "shell.execute_reply.started": "2021-06-29T08:56:22.232204Z"
    },
    "trusted": true
   },
   "outputs": [],
   "source": [
    "print(classification_report(y_test, predicted_y))"
   ]
  },
  {
   "cell_type": "markdown",
   "metadata": {},
   "source": [
    "<a id = \"102\" ></a>\n",
    "#### <b>SVC</b>\n",
    "<a id = \"svc\" ></a>"
   ]
  },
  {
   "cell_type": "code",
   "execution_count": null,
   "metadata": {
    "execution": {
     "iopub.execute_input": "2021-06-29T08:58:18.234742Z",
     "iopub.status.busy": "2021-06-29T08:58:18.234191Z",
     "iopub.status.idle": "2021-06-29T08:58:19.916363Z",
     "shell.execute_reply": "2021-06-29T08:58:19.91526Z",
     "shell.execute_reply.started": "2021-06-29T08:58:18.234695Z"
    },
    "trusted": true
   },
   "outputs": [],
   "source": [
    "svc_model = SVC(random_state = 1)\n",
    "svc_model.fit(X_train,y_train)\n",
    "predict_y = svc_model.predict(X_test)\n",
    "accuracy_svc = svc_model.score(X_test,y_test)\n",
    "print(\"SVM accuracy is :\",accuracy_svc)"
   ]
  },
  {
   "cell_type": "code",
   "execution_count": null,
   "metadata": {
    "execution": {
     "iopub.execute_input": "2021-06-29T08:58:26.683015Z",
     "iopub.status.busy": "2021-06-29T08:58:26.682624Z",
     "iopub.status.idle": "2021-06-29T08:58:26.696757Z",
     "shell.execute_reply": "2021-06-29T08:58:26.695311Z",
     "shell.execute_reply.started": "2021-06-29T08:58:26.682961Z"
    },
    "trusted": true
   },
   "outputs": [],
   "source": [
    "print(classification_report(y_test, predict_y))"
   ]
  },
  {
   "cell_type": "markdown",
   "metadata": {},
   "source": [
    "<a id = \"103\" ></a>\n",
    "#### <b> Random Forest</b>\n",
    "<a id = \"rf\" ></a>"
   ]
  },
  {
   "cell_type": "code",
   "execution_count": null,
   "metadata": {
    "execution": {
     "iopub.execute_input": "2021-06-29T08:55:32.341443Z",
     "iopub.status.busy": "2021-06-29T08:55:32.340726Z",
     "iopub.status.idle": "2021-06-29T08:55:34.742449Z",
     "shell.execute_reply": "2021-06-29T08:55:34.741335Z",
     "shell.execute_reply.started": "2021-06-29T08:55:32.341397Z"
    },
    "trusted": true
   },
   "outputs": [],
   "source": [
    "model_rf = RandomForestClassifier(n_estimators=500 , oob_score = True, n_jobs = -1,\n",
    "                                  random_state =50, max_features = \"auto\",\n",
    "                                  max_leaf_nodes = 30)\n",
    "model_rf.fit(X_train, y_train)\n",
    "\n",
    "# Make predictions\n",
    "prediction_test = model_rf.predict(X_test)\n",
    "print (metrics.accuracy_score(y_test, prediction_test))"
   ]
  },
  {
   "cell_type": "code",
   "execution_count": null,
   "metadata": {
    "execution": {
     "iopub.execute_input": "2021-06-29T08:59:03.524126Z",
     "iopub.status.busy": "2021-06-29T08:59:03.523397Z",
     "iopub.status.idle": "2021-06-29T08:59:03.540549Z",
     "shell.execute_reply": "2021-06-29T08:59:03.539177Z",
     "shell.execute_reply.started": "2021-06-29T08:59:03.524077Z"
    },
    "trusted": true
   },
   "outputs": [],
   "source": [
    "print(classification_report(y_test, prediction_test))"
   ]
  },
  {
   "cell_type": "code",
   "execution_count": null,
   "metadata": {
    "execution": {
     "iopub.execute_input": "2021-06-29T08:55:34.744061Z",
     "iopub.status.busy": "2021-06-29T08:55:34.743756Z",
     "iopub.status.idle": "2021-06-29T08:55:34.981277Z",
     "shell.execute_reply": "2021-06-29T08:55:34.980119Z",
     "shell.execute_reply.started": "2021-06-29T08:55:34.744032Z"
    },
    "trusted": true
   },
   "outputs": [],
   "source": [
    "plt.figure(figsize=(4,3))\n",
    "sns.heatmap(confusion_matrix(y_test, prediction_test),\n",
    "                annot=True,fmt = \"d\",linecolor=\"k\",linewidths=3)\n",
    "    \n",
    "plt.title(\" RANDOM FOREST CONFUSION MATRIX\",fontsize=14)\n",
    "plt.show()"
   ]
  },
  {
   "cell_type": "code",
   "execution_count": null,
   "metadata": {
    "execution": {
     "iopub.execute_input": "2021-06-29T08:55:34.983106Z",
     "iopub.status.busy": "2021-06-29T08:55:34.982728Z",
     "iopub.status.idle": "2021-06-29T08:55:35.330618Z",
     "shell.execute_reply": "2021-06-29T08:55:35.329599Z",
     "shell.execute_reply.started": "2021-06-29T08:55:34.983073Z"
    },
    "trusted": true
   },
   "outputs": [],
   "source": [
    "y_rfpred_prob = model_rf.predict_proba(X_test)[:,1]\n",
    "fpr_rf, tpr_rf, thresholds = roc_curve(y_test, y_rfpred_prob)\n",
    "plt.plot([0, 1], [0, 1], 'k--' )\n",
    "plt.plot(fpr_rf, tpr_rf, label='Random Forest',color = \"r\")\n",
    "plt.xlabel('False Positive Rate')\n",
    "plt.ylabel('True Positive Rate')\n",
    "plt.title('Random Forest ROC Curve',fontsize=16)\n",
    "plt.show();"
   ]
  },
  {
   "cell_type": "markdown",
   "metadata": {},
   "source": [
    "<a id = \"104\" ></a>\n",
    "#### <b>Logistic Regression</b>\n",
    "<a id = \"lr\" ></a>"
   ]
  },
  {
   "cell_type": "code",
   "execution_count": null,
   "metadata": {
    "execution": {
     "iopub.execute_input": "2021-06-29T08:55:35.332079Z",
     "iopub.status.busy": "2021-06-29T08:55:35.331781Z",
     "iopub.status.idle": "2021-06-29T08:55:35.408352Z",
     "shell.execute_reply": "2021-06-29T08:55:35.407092Z",
     "shell.execute_reply.started": "2021-06-29T08:55:35.33205Z"
    },
    "trusted": true
   },
   "outputs": [],
   "source": [
    "lr_model = LogisticRegression()\n",
    "lr_model.fit(X_train,y_train)\n",
    "accuracy_lr = lr_model.score(X_test,y_test)\n",
    "print(\"Logistic Regression accuracy is :\",accuracy_lr)"
   ]
  },
  {
   "cell_type": "code",
   "execution_count": null,
   "metadata": {
    "execution": {
     "iopub.execute_input": "2021-06-29T08:55:35.410486Z",
     "iopub.status.busy": "2021-06-29T08:55:35.410062Z",
     "iopub.status.idle": "2021-06-29T08:55:35.439172Z",
     "shell.execute_reply": "2021-06-29T08:55:35.437906Z",
     "shell.execute_reply.started": "2021-06-29T08:55:35.410441Z"
    },
    "trusted": true
   },
   "outputs": [],
   "source": [
    "lr_pred= lr_model.predict(X_test)\n",
    "report = classification_report(y_test,lr_pred)\n",
    "print(report)"
   ]
  },
  {
   "cell_type": "code",
   "execution_count": null,
   "metadata": {
    "execution": {
     "iopub.execute_input": "2021-06-29T08:55:35.444686Z",
     "iopub.status.busy": "2021-06-29T08:55:35.444211Z",
     "iopub.status.idle": "2021-06-29T08:55:35.713293Z",
     "shell.execute_reply": "2021-06-29T08:55:35.712326Z",
     "shell.execute_reply.started": "2021-06-29T08:55:35.44464Z"
    },
    "trusted": true
   },
   "outputs": [],
   "source": [
    "plt.figure(figsize=(4,3))\n",
    "sns.heatmap(confusion_matrix(y_test, lr_pred),\n",
    "                annot=True,fmt = \"d\",linecolor=\"k\",linewidths=3)\n",
    "    \n",
    "plt.title(\"LOGISTIC REGRESSION CONFUSION MATRIX\",fontsize=14)\n",
    "plt.show()"
   ]
  },
  {
   "cell_type": "code",
   "execution_count": null,
   "metadata": {
    "execution": {
     "iopub.execute_input": "2021-06-29T08:55:35.715071Z",
     "iopub.status.busy": "2021-06-29T08:55:35.71466Z",
     "iopub.status.idle": "2021-06-29T08:55:35.91616Z",
     "shell.execute_reply": "2021-06-29T08:55:35.91521Z",
     "shell.execute_reply.started": "2021-06-29T08:55:35.715037Z"
    },
    "trusted": true
   },
   "outputs": [],
   "source": [
    "y_pred_prob = lr_model.predict_proba(X_test)[:,1]\n",
    "fpr, tpr, thresholds = roc_curve(y_test, y_pred_prob)\n",
    "plt.plot([0, 1], [0, 1], 'k--' )\n",
    "plt.plot(fpr, tpr, label='Logistic Regression',color = \"r\")\n",
    "plt.xlabel('False Positive Rate')\n",
    "plt.ylabel('True Positive Rate')\n",
    "plt.title('Logistic Regression ROC Curve',fontsize=16)\n",
    "plt.show();"
   ]
  },
  {
   "cell_type": "markdown",
   "metadata": {},
   "source": [
    "<a id = \"105\" ></a>\n",
    "#### **Decision Tree Classifier**\n",
    "<a id = \"dtc\" ></a>"
   ]
  },
  {
   "cell_type": "code",
   "execution_count": null,
   "metadata": {
    "execution": {
     "iopub.execute_input": "2021-06-29T09:00:45.62588Z",
     "iopub.status.busy": "2021-06-29T09:00:45.62535Z",
     "iopub.status.idle": "2021-06-29T09:00:45.661933Z",
     "shell.execute_reply": "2021-06-29T09:00:45.661146Z",
     "shell.execute_reply.started": "2021-06-29T09:00:45.625832Z"
    },
    "trusted": true
   },
   "outputs": [],
   "source": [
    "dt_model = DecisionTreeClassifier()\n",
    "dt_model.fit(X_train,y_train)\n",
    "predictdt_y = dt_model.predict(X_test)\n",
    "accuracy_dt = dt_model.score(X_test,y_test)\n",
    "print(\"Decision Tree accuracy is :\",accuracy_dt)"
   ]
  },
  {
   "cell_type": "markdown",
   "metadata": {},
   "source": [
    "Decision tree gives very low score."
   ]
  },
  {
   "cell_type": "code",
   "execution_count": null,
   "metadata": {
    "execution": {
     "iopub.execute_input": "2021-06-29T09:00:56.663991Z",
     "iopub.status.busy": "2021-06-29T09:00:56.663475Z",
     "iopub.status.idle": "2021-06-29T09:00:56.676914Z",
     "shell.execute_reply": "2021-06-29T09:00:56.675331Z",
     "shell.execute_reply.started": "2021-06-29T09:00:56.663959Z"
    },
    "trusted": true
   },
   "outputs": [],
   "source": [
    "print(classification_report(y_test, predictdt_y))"
   ]
  },
  {
   "cell_type": "markdown",
   "metadata": {},
   "source": [
    "<a id = \"106\" ></a>\n",
    "#### **AdaBoost Classifier**\n",
    "<a id = \"ada\" ></a>"
   ]
  },
  {
   "cell_type": "code",
   "execution_count": null,
   "metadata": {
    "execution": {
     "iopub.execute_input": "2021-06-29T08:55:35.952497Z",
     "iopub.status.busy": "2021-06-29T08:55:35.952116Z",
     "iopub.status.idle": "2021-06-29T08:55:36.247375Z",
     "shell.execute_reply": "2021-06-29T08:55:36.246484Z",
     "shell.execute_reply.started": "2021-06-29T08:55:35.952467Z"
    },
    "trusted": true
   },
   "outputs": [],
   "source": [
    "a_model = AdaBoostClassifier()\n",
    "a_model.fit(X_train,y_train)\n",
    "a_preds = a_model.predict(X_test)\n",
    "print(\"AdaBoost Classifier accuracy\")\n",
    "metrics.accuracy_score(y_test, a_preds)"
   ]
  },
  {
   "cell_type": "code",
   "execution_count": null,
   "metadata": {
    "execution": {
     "iopub.execute_input": "2021-06-29T09:01:30.862986Z",
     "iopub.status.busy": "2021-06-29T09:01:30.862559Z",
     "iopub.status.idle": "2021-06-29T09:01:30.877468Z",
     "shell.execute_reply": "2021-06-29T09:01:30.87618Z",
     "shell.execute_reply.started": "2021-06-29T09:01:30.86295Z"
    },
    "trusted": true
   },
   "outputs": [],
   "source": [
    "print(classification_report(y_test, a_preds))"
   ]
  },
  {
   "cell_type": "code",
   "execution_count": null,
   "metadata": {
    "execution": {
     "iopub.execute_input": "2021-06-29T08:55:36.248948Z",
     "iopub.status.busy": "2021-06-29T08:55:36.248645Z",
     "iopub.status.idle": "2021-06-29T08:55:36.480332Z",
     "shell.execute_reply": "2021-06-29T08:55:36.479272Z",
     "shell.execute_reply.started": "2021-06-29T08:55:36.248919Z"
    },
    "trusted": true
   },
   "outputs": [],
   "source": [
    "plt.figure(figsize=(4,3))\n",
    "sns.heatmap(confusion_matrix(y_test, a_preds),\n",
    "                annot=True,fmt = \"d\",linecolor=\"k\",linewidths=3)\n",
    "    \n",
    "plt.title(\"AdaBoost Classifier Confusion Matrix\",fontsize=14)\n",
    "plt.show()"
   ]
  },
  {
   "cell_type": "markdown",
   "metadata": {},
   "source": [
    "<a id = \"107\" ></a>\n",
    "#### **Gradient Boosting Classifier**\n",
    "<a id = \"gb\" ></a>"
   ]
  },
  {
   "cell_type": "code",
   "execution_count": null,
   "metadata": {
    "execution": {
     "iopub.execute_input": "2021-06-29T08:55:36.482295Z",
     "iopub.status.busy": "2021-06-29T08:55:36.481888Z",
     "iopub.status.idle": "2021-06-29T08:55:37.214663Z",
     "shell.execute_reply": "2021-06-29T08:55:37.213677Z",
     "shell.execute_reply.started": "2021-06-29T08:55:36.482252Z"
    },
    "trusted": true
   },
   "outputs": [],
   "source": [
    "gb = GradientBoostingClassifier()\n",
    "gb.fit(X_train, y_train)\n",
    "gb_pred = gb.predict(X_test)\n",
    "print(\"Gradient Boosting Classifier\", accuracy_score(y_test, gb_pred))"
   ]
  },
  {
   "cell_type": "code",
   "execution_count": null,
   "metadata": {
    "execution": {
     "iopub.execute_input": "2021-06-29T09:01:48.524353Z",
     "iopub.status.busy": "2021-06-29T09:01:48.523733Z",
     "iopub.status.idle": "2021-06-29T09:01:48.548096Z",
     "shell.execute_reply": "2021-06-29T09:01:48.546137Z",
     "shell.execute_reply.started": "2021-06-29T09:01:48.524297Z"
    },
    "trusted": true
   },
   "outputs": [],
   "source": [
    "print(classification_report(y_test, gb_pred))"
   ]
  },
  {
   "cell_type": "code",
   "execution_count": null,
   "metadata": {
    "execution": {
     "iopub.execute_input": "2021-06-29T08:55:37.216142Z",
     "iopub.status.busy": "2021-06-29T08:55:37.215868Z",
     "iopub.status.idle": "2021-06-29T08:55:37.446138Z",
     "shell.execute_reply": "2021-06-29T08:55:37.445133Z",
     "shell.execute_reply.started": "2021-06-29T08:55:37.216114Z"
    },
    "trusted": true
   },
   "outputs": [],
   "source": [
    "plt.figure(figsize=(4,3))\n",
    "sns.heatmap(confusion_matrix(y_test, gb_pred),\n",
    "                annot=True,fmt = \"d\",linecolor=\"k\",linewidths=3)\n",
    "    \n",
    "plt.title(\"Gradient Boosting Classifier Confusion Matrix\",fontsize=14)\n",
    "plt.show()"
   ]
  },
  {
   "cell_type": "markdown",
   "metadata": {},
   "source": [
    "<a id = \"108\" ></a>\n",
    "#### **Voting Classifier**\n",
    "<a id = \"vc\" ></a>\n",
    "Let's now predict the final model based on the highest majority of voting and check it's score."
   ]
  },
  {
   "cell_type": "code",
   "execution_count": null,
   "metadata": {
    "execution": {
     "iopub.execute_input": "2021-06-29T08:55:37.447617Z",
     "iopub.status.busy": "2021-06-29T08:55:37.447334Z",
     "iopub.status.idle": "2021-06-29T08:55:38.607025Z",
     "shell.execute_reply": "2021-06-29T08:55:38.605685Z",
     "shell.execute_reply.started": "2021-06-29T08:55:37.447591Z"
    },
    "trusted": true
   },
   "outputs": [],
   "source": [
    "from sklearn.ensemble import VotingClassifier\n",
    "clf1 = GradientBoostingClassifier()\n",
    "clf2 = LogisticRegression()\n",
    "clf3 = AdaBoostClassifier()\n",
    "eclf1 = VotingClassifier(estimators=[('gbc', clf1), ('lr', clf2), ('abc', clf3)], voting='soft')\n",
    "eclf1.fit(X_train, y_train)\n",
    "predictions = eclf1.predict(X_test)\n",
    "print(\"Final Accuracy Score \")\n",
    "print(accuracy_score(y_test, predictions))"
   ]
  },
  {
   "cell_type": "code",
   "execution_count": null,
   "metadata": {
    "execution": {
     "iopub.execute_input": "2021-06-29T09:02:13.192676Z",
     "iopub.status.busy": "2021-06-29T09:02:13.192299Z",
     "iopub.status.idle": "2021-06-29T09:02:13.20672Z",
     "shell.execute_reply": "2021-06-29T09:02:13.205458Z",
     "shell.execute_reply.started": "2021-06-29T09:02:13.192644Z"
    },
    "trusted": true
   },
   "outputs": [],
   "source": [
    "print(classification_report(y_test, predictions))"
   ]
  },
  {
   "cell_type": "code",
   "execution_count": null,
   "metadata": {
    "execution": {
     "iopub.execute_input": "2021-06-29T08:55:38.609206Z",
     "iopub.status.busy": "2021-06-29T08:55:38.608752Z",
     "iopub.status.idle": "2021-06-29T08:55:38.866325Z",
     "shell.execute_reply": "2021-06-29T08:55:38.865328Z",
     "shell.execute_reply.started": "2021-06-29T08:55:38.609162Z"
    },
    "trusted": true
   },
   "outputs": [],
   "source": [
    "plt.figure(figsize=(4,3))\n",
    "sns.heatmap(confusion_matrix(y_test, predictions),\n",
    "                annot=True,fmt = \"d\",linecolor=\"k\",linewidths=3)\n",
    "    \n",
    "plt.title(\"FINAL CONFUSION MATRIX\",fontsize=14)\n",
    "plt.show()"
   ]
  }
 ],
 "metadata": {
  "kaggle": {
   "accelerator": "none",
   "dataSources": [
    {
     "datasetId": 13996,
     "sourceId": 18858,
     "sourceType": "datasetVersion"
    }
   ],
   "dockerImageVersionId": 30096,
   "isGpuEnabled": false,
   "isInternetEnabled": false,
   "language": "python",
   "sourceType": "notebook"
  },
  "kernelspec": {
   "display_name": "Python 3",
   "language": "python",
   "name": "python3"
  },
  "language_info": {
   "codemirror_mode": {
    "name": "ipython",
    "version": 3
   },
   "file_extension": ".py",
   "mimetype": "text/x-python",
   "name": "python",
   "nbconvert_exporter": "python",
   "pygments_lexer": "ipython3",
   "version": "3.6.4"
  }
 },
 "nbformat": 4,
 "nbformat_minor": 4
}
